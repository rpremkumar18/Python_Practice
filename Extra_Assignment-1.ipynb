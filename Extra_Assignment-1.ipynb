{
 "cells": [
  {
   "cell_type": "code",
   "execution_count": 1,
   "id": "987c2f07-73b8-4c89-bbb9-610d43617ee9",
   "metadata": {},
   "outputs": [
    {
     "name": "stdout",
     "output_type": "stream",
     "text": [
      "HOPE AI\n"
     ]
    }
   ],
   "source": [
    "print (\"HOPE AI\")"
   ]
  },
  {
   "cell_type": "code",
   "execution_count": 6,
   "id": "17c9aba2-0c8b-4508-8893-016c5e7c8daa",
   "metadata": {},
   "outputs": [
    {
     "name": "stdin",
     "output_type": "stream",
     "text": [
      "Enter your institute name:  Hope AI\n"
     ]
    }
   ],
   "source": [
    "getName = input(\"Enter your institute name: \")\n"
   ]
  },
  {
   "cell_type": "code",
   "execution_count": 8,
   "id": "7320a287-f523-41e0-8746-bdd25a923b14",
   "metadata": {},
   "outputs": [
    {
     "name": "stdin",
     "output_type": "stream",
     "text": [
      "Enter your name:  Raj\n",
      "Enter your age:  15\n",
      "Enter your school name:  Guru School\n",
      "Enter your drgree:  B.E CSE\n"
     ]
    }
   ],
   "source": [
    "getName = input(\"Enter your name: \")\n",
    "getAge = input(\"Enter your age: \")\n",
    "getSchoolName = input(\"Enter your school name: \")\n",
    "getDegree = input(\"Enter your drgree: \")"
   ]
  },
  {
   "cell_type": "code",
   "execution_count": 24,
   "id": "807c7fa8-d0da-469b-aa25-3dd5fe87d093",
   "metadata": {},
   "outputs": [
    {
     "name": "stdin",
     "output_type": "stream",
     "text": [
      "a= 43\n",
      "b= 34\n"
     ]
    },
    {
     "name": "stdout",
     "output_type": "stream",
     "text": [
      "add= 77\n"
     ]
    }
   ],
   "source": [
    "a = int(input(\"a=\"))\n",
    "b =int(input(\"b=\"))\n",
    "add = a+b\n",
    "print (\"add=\",add)"
   ]
  },
  {
   "cell_type": "code",
   "execution_count": 25,
   "id": "8ec1d222-c9a8-4802-9f23-92be4c87fa31",
   "metadata": {},
   "outputs": [
    {
     "name": "stdin",
     "output_type": "stream",
     "text": [
      "a= 43\n",
      "b= 34\n"
     ]
    },
    {
     "name": "stdout",
     "output_type": "stream",
     "text": [
      "sub= 9\n"
     ]
    }
   ],
   "source": [
    "a = int(input(\"a=\"))\n",
    "b =int(input(\"b=\"))\n",
    "sub = a-b\n",
    "print (\"sub=\",sub)"
   ]
  },
  {
   "cell_type": "code",
   "execution_count": 26,
   "id": "a0a3df12-b670-4a8c-943c-eb1a02c182ba",
   "metadata": {},
   "outputs": [
    {
     "name": "stdin",
     "output_type": "stream",
     "text": [
      "a= 63\n",
      "b= 97\n"
     ]
    },
    {
     "name": "stdout",
     "output_type": "stream",
     "text": [
      "mul= 6111\n"
     ]
    }
   ],
   "source": [
    "a = int(input(\"a=\"))\n",
    "b =int(input(\"b=\"))\n",
    "mul = a*b\n",
    "print (\"mul=\",mul)  "
   ]
  },
  {
   "cell_type": "code",
   "execution_count": 27,
   "id": "35eb950d-785c-451d-877e-dd83ca6a251a",
   "metadata": {},
   "outputs": [
    {
     "name": "stdin",
     "output_type": "stream",
     "text": [
      "a= 76\n",
      "b= 31\n"
     ]
    },
    {
     "name": "stdout",
     "output_type": "stream",
     "text": [
      "Float Div= 2.4516129032258065\n"
     ]
    }
   ],
   "source": [
    "a = int(input(\"a=\"))\n",
    "b =int(input(\"b=\"))\n",
    "div = a/b\n",
    "print (\"Float Div=\",div) "
   ]
  },
  {
   "cell_type": "code",
   "execution_count": 28,
   "id": "34cd60bd-010a-4448-83d9-32fd4d8ef84d",
   "metadata": {},
   "outputs": [
    {
     "name": "stdin",
     "output_type": "stream",
     "text": [
      "a= 76\n",
      "b= 31\n"
     ]
    },
    {
     "name": "stdout",
     "output_type": "stream",
     "text": [
      "Float Div= 2\n"
     ]
    }
   ],
   "source": [
    "a = int(input(\"a=\"))\n",
    "b =int(input(\"b=\"))\n",
    "div = int(a/b)\n",
    "print (\"Float Div=\",div) "
   ]
  },
  {
   "cell_type": "code",
   "execution_count": 29,
   "id": "1d807fb2-1c0d-4875-8567-39af53cb7cb3",
   "metadata": {},
   "outputs": [
    {
     "name": "stdin",
     "output_type": "stream",
     "text": [
      "a= 76\n",
      "b= 31\n"
     ]
    },
    {
     "name": "stdout",
     "output_type": "stream",
     "text": [
      "Modulo= 14\n"
     ]
    }
   ],
   "source": [
    "a = int(input(\"a=\"))\n",
    "b =int(input(\"b=\"))\n",
    "mod = int(a%b)\n",
    "print (\"Modulo=\",mod) "
   ]
  },
  {
   "cell_type": "code",
   "execution_count": 30,
   "id": "a1665957-e620-44ba-81a1-c2d155f80d4f",
   "metadata": {},
   "outputs": [
    {
     "name": "stdin",
     "output_type": "stream",
     "text": [
      "a= 4\n",
      "b= 4\n"
     ]
    },
    {
     "name": "stdout",
     "output_type": "stream",
     "text": [
      "Power= 256\n"
     ]
    }
   ],
   "source": [
    "a = int(input(\"a=\"))\n",
    "b =int(input(\"b=\"))\n",
    "power = int(a ** b)\n",
    "print (\"Power=\",power) "
   ]
  }
 ],
 "metadata": {
  "kernelspec": {
   "display_name": "Python 3 (ipykernel)",
   "language": "python",
   "name": "python3"
  },
  "language_info": {
   "codemirror_mode": {
    "name": "ipython",
    "version": 3
   },
   "file_extension": ".py",
   "mimetype": "text/x-python",
   "name": "python",
   "nbconvert_exporter": "python",
   "pygments_lexer": "ipython3",
   "version": "3.11.7"
  }
 },
 "nbformat": 4,
 "nbformat_minor": 5
}
